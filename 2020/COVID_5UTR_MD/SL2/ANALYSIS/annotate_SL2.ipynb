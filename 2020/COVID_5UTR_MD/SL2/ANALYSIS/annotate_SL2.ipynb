{
 "cells": [
  {
   "cell_type": "code",
   "execution_count": 1,
   "metadata": {},
   "outputs": [],
   "source": [
    "import barnaba as bb\n",
    "import mdtraj as md\n",
    "\n",
    "traj1 = md.load(\"RUN_1/0/SL2_REST_01.crop.xtc\",top=\"SL2_A_0.pdb\",stride=5)\n",
    "#traj2 = md.load(\"SL5A_REST_1.crop.xtc\",top=\"SL5a_ext_gmx.pdb\",stride=5)\n",
    "\n",
    "stacking1,pairing1, res = bb.annotate_traj(traj1)\n",
    "#stacking2,pairing2, res = bb.annotate_traj(traj2)"
   ]
  },
  {
   "cell_type": "code",
   "execution_count": 2,
   "metadata": {},
   "outputs": [],
   "source": [
    "import numpy as np\n",
    "wcmap_1 = np.zeros((len(res),len(res)))\n",
    "omap_1 = np.zeros((len(res),len(res)))\n",
    "gumap_1 = np.zeros((len(res),len(res)))\n",
    "stats = {}\n",
    "selec = []\n",
    "for i in range(len(pairing1)):\n",
    "    tt = [False,False]\n",
    "    for j in range(len(pairing1[i][0])):\n",
    "        #for el in pairing[i][j][0]:\n",
    "        #print(pairing[i][0][j])\n",
    "        if(pairing1[i][1][j]==\"WCc\" or pairing1[i][1][j]==\"WWc\"): \n",
    "            wcmap_1[pairing1[i][0][j][0],pairing1[i][0][j][1]] += 1\n",
    "            if(pairing1[i][0][j][0] ==6 and pairing1[i][0][j][1] ==9): tt[0] = True\n",
    "            if(pairing1[i][0][j][0] ==6 and pairing1[i][0][j][1] ==11): tt[1] = True\n",
    "        elif(pairing1[i][1][j]==\"GUc\"):\n",
    "            gumap_1[pairing1[i][0][j][0],pairing1[i][0][j][1]] += 1\n",
    "        elif(pairing1[i][1][j]!=\"XXX\"):\n",
    "            omap_1[pairing1[i][0][j][0],pairing1[i][0][j][1]] += 1\n",
    "    #if(tt[0]==tt[1] and tt[0] == True):\n",
    "    #    selec.append(i)\n",
    "#print(stats)\n",
    "                \n",
    "#print(len(selec)/len(pairing1))\n",
    "#traj1[selec].save(\"boh.xtc\")\n",
    "wcmap_1/= len(pairing1)\n",
    "omap_1/= len(pairing1)\n",
    "gumap_1/= len(pairing1)"
   ]
  },
  {
   "cell_type": "code",
   "execution_count": 3,
   "metadata": {},
   "outputs": [
    {
     "name": "stdout",
     "output_type": "stream",
     "text": [
      "WC G_1_0 U_17_0 0.18955241790328387\n",
      "GU G_1_0 U_17_0 0.7415703371865126\n",
      "WC G_2_0 C_16_0 0.9995200191992321\n",
      "WC A_3_0 U_15_0 0.9939602415903364\n",
      "WC U_4_0 A_14_0 0.9924803007879685\n",
      "WC C_5_0 G_13_0 0.999920003199872\n",
      "WC U_6_0 A_12_0 0.9939602415903364\n",
      "WC C_7_0 G_10_0 0.9347226110955562\n",
      "WC C_7_0 A_12_0 0.14447422103115876\n"
     ]
    }
   ],
   "source": [
    "for i in range(len(res)):\n",
    "    for k in range(len(res)):\n",
    "        if(wcmap_1[i,k]>0.05):\n",
    "            print(\"WC\",res[i],res[k],wcmap_1[i,k])\n",
    "        if(gumap_1[i,k]>0.05):\n",
    "            print(\"GU\",res[i],res[k],gumap_1[i,k])\n",
    "        if(omap_1[i,k]>0.05):\n",
    "            print(\"OO\",res[i],res[k],omap_1[i,k])"
   ]
  },
  {
   "cell_type": "code",
   "execution_count": 4,
   "metadata": {},
   "outputs": [],
   "source": [
    "traj2 = md.load(\"RUN_2/0/SL2_REST_02.crop.xtc\",top=\"SL2_A_0.pdb\",stride=5)\n",
    "\n",
    "stacking2,pairing2, res = bb.annotate_traj(traj2)\n",
    "#stacking2,pairing2, res = bb.annotate_traj(traj2)"
   ]
  },
  {
   "cell_type": "code",
   "execution_count": 5,
   "metadata": {},
   "outputs": [],
   "source": [
    "\n",
    "wcmap_2 = np.zeros((len(res),len(res)))\n",
    "omap_2 = np.zeros((len(res),len(res)))\n",
    "gumap_2 = np.zeros((len(res),len(res)))\n",
    "stats = {}\n",
    "selec = []\n",
    "for i in range(len(pairing2)):\n",
    "    tt = [False,False]\n",
    "    for j in range(len(pairing2[i][0])):\n",
    "        #for el in pairing[i][j][0]:\n",
    "        #print(pairing[i][0][j])\n",
    "        if(pairing2[i][1][j]==\"WCc\" or pairing2[i][1][j]==\"WWc\"): \n",
    "            wcmap_2[pairing2[i][0][j][0],pairing2[i][0][j][1]] += 1\n",
    "            if(pairing2[i][0][j][0] ==6 and pairing2[i][0][j][1] ==9): tt[0] = True\n",
    "            if(pairing2[i][0][j][0] ==6 and pairing2[i][0][j][1] ==11): tt[1] = True\n",
    "        elif(pairing2[i][1][j]==\"GUc\"):\n",
    "            gumap_2[pairing2[i][0][j][0],pairing2[i][0][j][1]] += 1\n",
    "        elif(pairing2[i][1][j]!=\"XXX\"):\n",
    "            omap_2[pairing2[i][0][j][0],pairing2[i][0][j][1]] += 1\n",
    "    #if(tt[0]==tt[1] and tt[0] == True):\n",
    "    #    selec.append(i)\n",
    "#print(stats)\n",
    "                \n",
    "#print(len(selec)/len(pairing2))\n",
    "#traj1[selec].save(\"boh.xtc\")\n",
    "wcmap_2/= len(pairing2)\n",
    "omap_2/= len(pairing2)\n",
    "gumap_2/= len(pairing2)"
   ]
  },
  {
   "cell_type": "code",
   "execution_count": 6,
   "metadata": {},
   "outputs": [
    {
     "name": "stdout",
     "output_type": "stream",
     "text": [
      "WC G_1_0 U_17_0 0.18071277148914044\n",
      "GU G_1_0 U_17_0 0.7069317227310907\n",
      "OO G_1_0 U_17_0 0.06019759209631615\n",
      "WC G_2_0 C_16_0 0.9990400383984641\n",
      "WC G_2_0 U_17_0 0.021919123235070597\n",
      "OO G_2_0 U_17_0 0.028198872045118194\n",
      "WC A_3_0 U_15_0 0.9926402943882244\n",
      "WC U_4_0 A_14_0 0.9922003119875205\n",
      "WC C_5_0 G_13_0 0.999960001599936\n",
      "WC U_6_0 A_12_0 0.9853605855765769\n",
      "OO C_7_0 U_8_0 0.03919843206271749\n",
      "WC C_7_0 G_10_0 0.8494460221591137\n",
      "WC C_7_0 A_12_0 0.1326346946122155\n",
      "OO G_10_0 A_12_0 0.02139914403423863\n"
     ]
    }
   ],
   "source": [
    "for i in range(len(res)):\n",
    "    for k in range(len(res)):\n",
    "        if(wcmap_2[i,k]>0.02):\n",
    "            print(\"WC\",res[i],res[k],wcmap_2[i,k])\n",
    "        if(gumap_2[i,k]>0.02):\n",
    "            print(\"GU\",res[i],res[k],gumap_2[i,k])\n",
    "        if(omap_2[i,k]>0.02):\n",
    "            print(\"OO\",res[i],res[k],omap_2[i,k])"
   ]
  },
  {
   "cell_type": "code",
   "execution_count": 11,
   "metadata": {},
   "outputs": [
    {
     "data": {
      "image/png": "[encoded data removed]",
      "text/plain": [
       "<Figure size 187.2x187.2 with 1 Axes>"
      ]
     },
     "metadata": {
      "needs_background": "light"
     },
     "output_type": "display_data"
    }
   ],
   "source": [
    "import matplotlib.pyplot as plt\n",
    "fig, axs = plt.subplots(1,1,figsize=(2.6,2.6),sharey=True)\n",
    "def xx(a,b):\n",
    "    if(a==0 and b==16):\n",
    "        return 0,1\n",
    "    if(a==1 and b==15):\n",
    "        return 0,2\n",
    "    if(a==2 and b==14):\n",
    "        return 0,3\n",
    "    if(a==3 and b==13):\n",
    "        return 0,4\n",
    "    if(a==4 and b==12):\n",
    "        return 0,5\n",
    "    if(a==5 and b==11):\n",
    "        return 0,6\n",
    "    if(a==6 and b==9):\n",
    "        return 0,7.5\n",
    "\n",
    "    \n",
    "    else:\n",
    "        return -1,0\n",
    "axs.set_xlim(0.5,8.2)\n",
    "axs.set_ylim(0,1.2)\n",
    "\n",
    "for i in range(len(res)):\n",
    "    for k in range(len(res)):\n",
    "        r,index = xx(i,k)\n",
    "        if(r<0): continue\n",
    "        #if(wcmap_1[i,k]>0.05 or wcmap_2[i,k]>0.05):\n",
    "\n",
    "        axs.bar(index-0.18,wcmap_1[i,k],color='0.5',width=0.3,label=\"WWc\")\n",
    "        axs.bar(index+0.18,wcmap_2[i,k],color='0.5',width=0.3)\n",
    "        bottom1 = wcmap_1[i,k]\n",
    "        bottom2 = wcmap_2[i,k]\n",
    "        \n",
    "        axs.bar(index-0.18,gumap_1[i,k],bottom=bottom1,color='0.8',width=0.3,label=\"GUc\")\n",
    "        axs.bar(index+0.18,gumap_2[i,k],bottom=bottom2,color='0.8',width=0.3)\n",
    "        \n",
    "        bottom1 += gumap_1[i,k]\n",
    "        bottom2 += gumap_2[i,k]\n",
    "        \n",
    "        axs.bar(index-0.18,omap_1[i,k],bottom=bottom1,color='#BFBFFF',width=0.3,label=\"nWC\")\n",
    "        axs.bar(index+0.18,omap_2[i,k],bottom=bottom2,color='#BFBFFF',width=0.3)\n",
    "        if(i==0 and k==16):\n",
    "            axs.legend(ncol=3,fontsize=8,bbox_to_anchor=(-0.05, 1.17), loc='upper left')\n",
    "\n",
    "_ = axs.set_xticks([1,2,3,4,5,6,7.5])\n",
    "_ = axs.set_xticklabels([\"G(-1)-\\n U(+1)\",\"G45-C59\",\"A46-U58\",\"U47-A57\",\"C48-G56\",\"U49-A55\",\"C50-G53\"],rotation=90,fontsize=7)\n",
    "_ = axs.set_yticks([0,0.2,0.4,0.6,0.8,1.0])\n",
    "_ = axs.set_yticklabels([0,0.2,0.4,0.6,0.8,1.0],fontsize=7)\n",
    "\n",
    "\n",
    "axs.set_ylim(0,1.)\n",
    "axs.set_ylabel(\"Fraction\",fontsize=8)\n",
    "plt.subplots_adjust(left=0.17, bottom=0.23, right=0.97, top=0.9, wspace=0.08, hspace=0.4)\n",
    "axs.spines[\"top\"].set_visible(False)\n",
    "axs.spines[\"right\"].set_visible(False)\n",
    "plt.savefig(\"population_sl2.pdf\")"
   ]
  },
  {
   "cell_type": "code",
   "execution_count": null,
   "metadata": {},
   "outputs": [],
   "source": []
  }
 ],
 "metadata": {
  "kernelspec": {
   "display_name": "Python 3",
   "language": "python",
   "name": "python3"
  },
  "language_info": {
   "codemirror_mode": {
    "name": "ipython",
    "version": 3
   },
   "file_extension": ".py",
   "mimetype": "text/x-python",
   "name": "python",
   "nbconvert_exporter": "python",
   "pygments_lexer": "ipython3",
   "version": "3.7.3"
  }
 },
 "nbformat": 4,
 "nbformat_minor": 2
}
