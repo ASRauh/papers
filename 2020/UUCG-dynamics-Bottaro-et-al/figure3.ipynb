{
 "cells": [
  {
   "cell_type": "markdown",
   "metadata": {},
   "source": [
    "# Plot free energy surfaces\n",
    "\n",
    "In this notebook we plot the free energy surfaces onto different collective variables. First, we need to calculate different quantities from trajectories. This is a rather dull excercise, that we did in a separate [notebook](calculate_observables.ipynb). Here, we just read the data from pickle files"
   ]
  },
  {
   "cell_type": "code",
   "execution_count": 1,
   "metadata": {},
   "outputs": [],
   "source": [
    "import pickle\n",
    "\n",
    "# RMSD\n",
    "fname = \"data/observables/rmsd_full.p\"\n",
    "rmsd_full = pickle.load(open(fname,'rb'), encoding='bytes')\n",
    "\n",
    "# RMSD\n",
    "fname = \"data/observables/rmsd_full_2koc.p\"\n",
    "rmsd_2koc = pickle.load(open(fname,'rb'), encoding='bytes')\n",
    "\n",
    "fname = \"data/observables/rmsd_full_6by5.p\"\n",
    "rmsd_6by5 = pickle.load(open(fname,'rb'), encoding='bytes')\n",
    "\n",
    "# ERMSD\n",
    "fname = \"data/observables/ermsd_full.p\"\n",
    "ermsd_full = pickle.load(open(fname,'rb'), encoding='bytes')\n",
    "\n",
    "\n",
    "# RMSD\n",
    "fname = \"data/observables/ermsd_full_2koc.p\"\n",
    "ermsd_2koc = pickle.load(open(fname,'rb'), encoding='bytes')\n",
    "\n",
    "fname = \"data/observables/ermsd_full_6by5.p\"\n",
    "ermsd_6by5 = pickle.load(open(fname,'rb'), encoding='bytes')"
   ]
  },
  {
   "cell_type": "markdown",
   "metadata": {},
   "source": [
    "We now need to read the weights of the different ensembles. To complicate things, we have divided our dataset in 4 bins, so that we can estimate errors."
   ]
  },
  {
   "cell_type": "code",
   "execution_count": 2,
   "metadata": {},
   "outputs": [
    {
     "name": "stdout",
     "output_type": "stream",
     "text": [
      "(5, 4, 25000)\n"
     ]
    }
   ],
   "source": [
    "import numpy as np\n",
    "weights = [[]for i in range(5)]\n",
    "\n",
    "ss=[\"set_A1\",\"set_B\",\"set_C\",\"set_D\"]\n",
    "thetas = [20,50,60,500]\n",
    "for i,el in enumerate(ss):\n",
    "    for j in range(4):\n",
    "        dd = np.array([[float(x) for x in line.split()] \\\n",
    "                       for line in open(\"data/weights_%s_t_%d_rep_%d.dat\" % (el,thetas[i],j))])\n",
    "        if(i==0):\n",
    "            weights[0].append(dd[:,0])\n",
    "        weights[i+1].append(dd[:,1])\n",
    "\n",
    "weights = np.array(weights)\n",
    "print(weights.shape)"
   ]
  },
  {
   "cell_type": "markdown",
   "metadata": {},
   "source": [
    "We define a handy FES class, which essentially takes the weights, makes an histogram and returns the FES with lower and upper error bounds"
   ]
  },
  {
   "cell_type": "code",
   "execution_count": 3,
   "metadata": {},
   "outputs": [],
   "source": [
    "from scipy import stats\n",
    "import scipy\n",
    "class FES:\n",
    "    \n",
    "    def __init__(self,data,ww,bw=0.1,blocks=4):   \n",
    "        \n",
    "        self.data = np.copy(data)\n",
    "        self.ww = np.copy(ww)\n",
    "        self.blocks=blocks\n",
    "        bsize = int(data.shape[0]/blocks)\n",
    "        self.bins = np.linspace(1.1*np.min(data),1.05*np.max(data),200)\n",
    "\n",
    "        hists = []\n",
    "        for j in range(blocks):\n",
    "            st = j*bsize\n",
    "            end = st + bsize\n",
    "            f = bw/self.data[st:end].std()\n",
    "            kernel = stats.gaussian_kde(data[st:end],weights=ww[j],bw_method=f)\n",
    "            hh = kernel(self.bins)\n",
    "            hists.append(hh)\n",
    "        db = self.bins[1]-self.bins[0]\n",
    "        self.hists = np.array(hists)*db\n",
    "        \n",
    "    def get_fes(self,temp=280,hist=False):\n",
    "        \n",
    "        kbt=0.008314462*temp\n",
    "        \n",
    "        avgs = np.average(self.hists,axis=0)\n",
    "        stds = np.std(self.hists,axis=0,ddof=1)/np.sqrt(self.blocks)\n",
    "        if(hist==True):\n",
    "            return self.bins,avgs,avgs-stds,avgs+stds\n",
    "        fes = -kbt*np.log(avgs)\n",
    "        fes_up = -kbt*np.log(avgs  + stds)\n",
    "        fes_low = -kbt*np.log(avgs  - stds)\n",
    "        mm = np.min(fes)\n",
    "\n",
    "        return self.bins,fes-mm,fes_low-mm,fes_up-mm\n",
    "    \n",
    "    def get_populations(self,r1):\n",
    "        \n",
    "        assert(r1[0]<r1[1])\n",
    "        int1 = np.where((self.bins>r1[0]) & (self.bins<r1[1]))\n",
    "        p1 = np.sum(self.hists[:,int1[0]],axis=1)/np.sum(self.hists,axis=1)\n",
    "        return p1\n",
    "    \n",
    "    def get_df(self,r1,r2,temp=280):\n",
    "    \n",
    "        kbt=0.008314462*temp\n",
    "        p1 = self.get_populations(r1)\n",
    "        p2 = self.get_populations(r2)\n",
    "        return -kbt*(np.log(p1) - np.log(p2))\n",
    "    \n",
    "    \n"
   ]
  },
  {
   "cell_type": "markdown",
   "metadata": {},
   "source": [
    "We calculate the FES using projected onto the RMSD from native"
   ]
  },
  {
   "cell_type": "code",
   "execution_count": 4,
   "metadata": {},
   "outputs": [],
   "source": [
    "fes_obj = []\n",
    "for j in range(5):\n",
    "    fes_obj.append(FES(rmsd_full,weights[j],bw=0.05))\n",
    "\n"
   ]
  },
  {
   "cell_type": "code",
   "execution_count": 5,
   "metadata": {},
   "outputs": [
    {
     "data": {
      "text/plain": [
       "<Figure size 1000x1000 with 4 Axes>"
      ]
     },
     "metadata": {},
     "output_type": "display_data"
    }
   ],
   "source": [
    "import matplotlib.pyplot as plt\n",
    "import seaborn as sns\n",
    "cols = [\"black\",\"medium blue\",\"pumpkin\",\"brick red\",\"leaf green\",\"white\"]\n",
    "cp = sns.xkcd_palette(cols)\n",
    "fig,ax = plt.subplots(2,2,figsize=(10,10))\n",
    "plt.subplots_adjust(left=0.1, bottom=0.07, right=0.95, top=0.95, wspace=0.15, hspace=0.15)\n",
    "k = 0\n",
    "for i in range(2):\n",
    "    for j in range(2):\n",
    "        ax[i,j].set_ylim(0.,0.14)\n",
    "        ax[i,j].set_xlim(-0.01,1.7)\n",
    "\n",
    "        bins0,fes0,fes0_up, fes0_low = fes_obj[0].get_fes(hist=True)\n",
    "        bins1,fes1,fes1_up, fes1_low = fes_obj[k+1].get_fes(hist=True)\n",
    "        ax[i,j].plot(bins0,fes0,label=\"MD\",color=cp[0],lw=0.5)\n",
    "        ax[i,j].fill_between(bins0,fes0_low,fes0_up,alpha=0.3,color=cp[0])\n",
    "        ax[i,j].plot(bins1,fes1,label=\"MD+%s\" % ss[k],color=cp[k+1],lw=2)\n",
    "        ax[i,j].fill_between(bins1,fes1_low,fes1_up,alpha=0.3,color=cp[k+1])\n",
    "        ax[i,j].text(1.0,0.12,\"MD+%s\" % ss[k],fontsize=12)\n",
    "        ax[i,j].set_xlabel(\"RMSD from native [nm]\")\n",
    "\n",
    "        k+=1 \n",
    "plt.savefig(\"RMSD_fes.pdf\")\n",
    "plt.savefig(\"RMSD_fes.png\",dpi=600)\n",
    "plt.show()\n",
    "plt.close()"
   ]
  },
  {
   "cell_type": "markdown",
   "metadata": {},
   "source": [
    "In our experience, the eRMSD better distinguishes conformations. Therefore, we use the eRMSD to calculate the histograms\n"
   ]
  },
  {
   "cell_type": "code",
   "execution_count": 6,
   "metadata": {},
   "outputs": [],
   "source": [
    "fes_obj_ermsd = []\n",
    "for j in range(5):\n",
    "    fes_obj_ermsd.append(FES(ermsd_full,weights[j],bw=0.05))"
   ]
  },
  {
   "cell_type": "code",
   "execution_count": 11,
   "metadata": {},
   "outputs": [],
   "source": [
    "fig,ax = plt.subplots(2,2,figsize=(4.5,4.5),sharex=True,sharey=True)\n",
    "plt.subplots_adjust(left=0.1, bottom=0.12, right=0.95, top=0.95, wspace=0.16, hspace=0.1)\n",
    "k = 0\n",
    "cols = [\"pumpkin\",\"medium blue\",\"dark grey\",\"dark grey\",\"dark grey\",\"wine\"]\n",
    "cp = sns.xkcd_palette(cols)\n",
    "\n",
    "stitles = [\"set A\",\"set B\", \"set C\", \"set D\"]\n",
    "kj = [\"a\",\"b\",\"c\",'d']\n",
    "for i in range(2):\n",
    "    for j in range(2):\n",
    "        ax[i,j].set_ylim(-0.005,0.12)\n",
    "        ax[i,j].set_xlim(-0.05,2.2)\n",
    "        ax[i,j].set_yticks([0,0.04,0.08])\n",
    "        bins0,fes0,fes0_up, fes0_low = fes_obj_ermsd[0].get_fes(hist=True)\n",
    "        bins1,fes1,fes1_up, fes1_low = fes_obj_ermsd[k+1].get_fes(hist=True)\n",
    "        ax[i,j].plot(bins0,fes0,label=\"MD\",color=cp[0],lw=1.0)\n",
    "        ax[i,j].fill_between(bins0,fes0_low,fes0_up,alpha=0.5,color=cp[0])\n",
    "        ax[i,j].plot(bins1,fes1,label=\"MD+%s\" % stitles[k],color=cp[k+1],lw=1)\n",
    "        ax[i,j].fill_between(bins1,fes1_low,fes1_up,alpha=0.5,color=cp[k+1])\n",
    "        #ax[i,j].text(1.0,0.09,\"MD+%s\" % stitles[k],fontsize=14,color=cp[k+1],weight=\"bold\")\n",
    "        ax[i,j].text(-0.2,0.11,kj[k],weight=\"bold\",fontsize=12,ha=\"center\",va=\"center\")\n",
    "        ax[i,j].legend(ncol=1)\n",
    "        if(i==1): ax[i,j].set_xlabel(\"eRMSD from native [nm]\")\n",
    "        if(i==0 and j==0):\n",
    "            #ax[i,j].scatter(ermsd_2koc,[-0.002]*len(ermsd_2koc),color=cp[5],label=\"2KOC\",marker=\"x\",s=40)\n",
    "            ax[i,j].axvline(0.7,ls=\"--\",lw=0.5,c=\"k\")\n",
    "            \n",
    "        #ax[i,j].scatter(ermsd_6by5,[-0.002]*len(ermsd_6by5),color=cp[3],label=\"6BY5\",marker=\"o\",s=40)\n",
    "        \n",
    "        k+=1 \n",
    "#plt.show()\n",
    "plt.savefig(\"figures/figure3.pdf\")\n",
    "plt.savefig(\"figures/figure3.png\",dpi=600)\n",
    "#plt.show()\n",
    "plt.close()\n",
    "\n"
   ]
  },
  {
   "cell_type": "code",
   "execution_count": 8,
   "metadata": {},
   "outputs": [
    {
     "name": "stdout",
     "output_type": "stream",
     "text": [
      "POPULATION of state A in different ensembles\n",
      "ensemble MD:  59.5+/-3.6  \n",
      "ensemble set A:  83.4+/-15.5 \n",
      "ensemble set B:  44.2+/-6.2  \n",
      "ensemble set C:  64.9+/-5.1  \n",
      "ensemble set D:  43.6+/-9.5  \n"
     ]
    }
   ],
   "source": [
    "print(\"POPULATION of state A in different ensembles\")\n",
    "stitles2 = [\"MD\"] + stitles\n",
    "for j in range(len(stitles2)):\n",
    "    mean = 100*fes_obj_ermsd[j].get_populations([0,0.7]).mean()\n",
    "    std = 100*fes_obj_ermsd[j].get_populations([0,0.7]).std(ddof=1)\n",
    "    print(\"ensemble %s: %5.1f+/-%-5.1f\" % (stitles2[j],mean,std))\n"
   ]
  },
  {
   "cell_type": "markdown",
   "metadata": {},
   "source": [
    "Finally, we draw random samples from the refined MD+set A distribution and write PDB files to disk corresponding to state A and state B"
   ]
  },
  {
   "cell_type": "code",
   "execution_count": 9,
   "metadata": {},
   "outputs": [
    {
     "name": "stdout",
     "output_type": "stream",
     "text": [
      "A 0.49189376101851845\n",
      "A 0.5053475869780073\n",
      "A 0.4750203993345654\n",
      "A 0.44078589706005517\n",
      "A 0.45792117045612135\n",
      "A 0.46289772079042235\n",
      "A 0.47080236578794477\n",
      "B 1.034829067013729\n",
      "B 0.9229961687300786\n",
      "A 0.6809916914848865\n",
      "A 0.48077377828063267\n",
      "A 0.4587504988229158\n",
      "B 0.8858780023330175\n",
      "B 0.8912207331773445\n",
      "B 1.007689653886882\n",
      "B 0.9550669339707459\n",
      "B 0.925195804574741\n",
      "B 1.0216470820785573\n",
      "B 0.8942611264547061\n",
      "B 0.8821378239896296\n"
     ]
    }
   ],
   "source": [
    "# extract samples\n",
    "import mdtraj as md\n",
    "theta=20\n",
    "top = \"data/PDB/2koc_gmx.pdb\"\n",
    "trj = \"data/traj_temp_f_0.xtc\"\n",
    "\n",
    "trajmd = md.load(trj,top=top)\n",
    "native = \"data/PDB/2koc_gmx.pdb\"\n",
    "\n",
    "# read weights \n",
    "data_tmp = np.array([[float(x) for x in line.split()] for line in open(\"data/weights_%s_t_%d.dat\" % (ss[0],theta),\"r\")])\n",
    "weights1f = data_tmp[:,1]\n",
    "# find indeces where ermsd is less than 0.7\n",
    "stateAi = np.where(ermsd_full<0.7)[0]\n",
    "\n",
    "# bootstrap samples\n",
    "ff = np.random.choice(len(weights1f),size=100,p=weights1f/np.sum(weights1f),replace=False)\n",
    "\n",
    "# write to disk 10 pdbs from each basin \n",
    "ac,bc = 0,0\n",
    "for j in range(100):\n",
    "    if(ff[j] in stateAi and ac <10):\n",
    "        trajmd[ff[j]].superpose(md.load(native)).save(\"stateA_sample%d.pdb\" %ac)\n",
    "        print(\"A\",ermsd_full[ff[j]])\n",
    "        ac += 1\n",
    "    if(ff[j] not in stateAi and bc <10):\n",
    "        trajmd[ff[j]].superpose(md.load(native)).save(\"stateB_sample%d.pdb\" %bc)\n",
    "        print(\"B\",ermsd_full[ff[j]])\n",
    "        bc += 1\n"
   ]
  },
  {
   "cell_type": "code",
   "execution_count": null,
   "metadata": {},
   "outputs": [],
   "source": []
  }
 ],
 "metadata": {
  "kernelspec": {
   "display_name": "Python 3",
   "language": "python",
   "name": "python3"
  },
  "language_info": {
   "codemirror_mode": {
    "name": "ipython",
    "version": 3
   },
   "file_extension": ".py",
   "mimetype": "text/x-python",
   "name": "python",
   "nbconvert_exporter": "python",
   "pygments_lexer": "ipython3",
   "version": "3.6.9"
  }
 },
 "nbformat": 4,
 "nbformat_minor": 2
}
