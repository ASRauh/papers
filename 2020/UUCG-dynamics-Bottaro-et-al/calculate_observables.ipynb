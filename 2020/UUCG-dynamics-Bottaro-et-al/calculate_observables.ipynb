{
 "cells": [
  {
   "cell_type": "markdown",
   "metadata": {},
   "source": [
    "# Calculation of structural properties\n",
    "In this notebook we calculate several structural properties from structure. We use the software [barnaba](https://github.com/srnas/barnaba) to calculate RMSD, eRMSD and torsion angles. \n"
   ]
  },
  {
   "cell_type": "code",
   "execution_count": 1,
   "metadata": {},
   "outputs": [],
   "source": [
    "import barnaba as bb\n",
    "import pickle\n",
    "import os\n",
    "# native structure\n",
    "native = \"data/PDB/2koc_gmx.pdb\"\n",
    "# topology \n",
    "top = \"data/PDB/2koc_gmx.pdb\"\n",
    "# trajectory file\n",
    "trj = \"data/traj_temp_f_0.xtc\"\n",
    "\n",
    "# 2KOC and 6BY5 files from PDB database \n",
    "top1 = \"data/PDB/2koc.pdb\"\n",
    "top2 = \"data/PDB/6by5.pdb\"\n",
    "\n",
    "# makedir\n",
    "%mkdir -p data/observables\n"
   ]
  },
  {
   "cell_type": "code",
   "execution_count": 2,
   "metadata": {},
   "outputs": [
    {
     "name": "stderr",
     "output_type": "stream",
     "text": [
      "/home/sbottaro/anaconda3/envs/py36/lib/python3.6/site-packages/mdtraj/formats/pdb/pdbfile.py:196: UserWarning: Unlikely unit cell vectors detected in PDB file likely resulting from a dummy CRYST1 record. Discarding unit cell vectors.\n",
      "  warnings.warn('Unlikely unit cell vectors detected in PDB file likely '\n",
      "/home/sbottaro/anaconda3/envs/py36/lib/python3.6/site-packages/mdtraj/core/trajectory.py:419: UserWarning: top= kwarg ignored since file contains topology information\n",
      "  warnings.warn('top= kwarg ignored since file contains topology information')\n",
      "# Loaded reference data/PDB/2koc_gmx.pdb \n",
      "# Loaded target data/PDB/2koc.pdb \n",
      "# Loaded reference data/PDB/2koc_gmx.pdb \n",
      "# Loaded target data/PDB/6by5.pdb \n",
      "# Loaded reference data/PDB/2koc_gmx.pdb \n",
      "# Loaded target data/traj_temp_f_0.xtc \n"
     ]
    }
   ],
   "source": [
    "# calculate ermsd from 2KOC, full structure \n",
    "fname = \"data/observables/ermsd_full_2koc.p\"\n",
    "if os.path.isfile(fname):\n",
    "    ermsd_full_2koc = pickle.load(open(fname,'rb'), encoding='bytes')\n",
    "else:\n",
    "    ermsd_full_2koc = bb.ermsd(native,top1,topology=top1)\n",
    "    pickle.dump(ermsd_full_2koc,open(fname, 'wb'))\n",
    "\n",
    "fname = \"data/observables/ermsd_full_6by5.p\"\n",
    "if os.path.isfile(fname):\n",
    "    ermsd_full_6by5 = pickle.load(open(fname,'rb'), encoding='bytes')\n",
    "else:\n",
    "    ermsd_full_6by5 = bb.ermsd(native,top2,topology=top2)\n",
    "    pickle.dump(ermsd_full_6by5,open(fname, 'wb'))\n",
    "    \n",
    "fname = \"data/observables/ermsd_full.p\"\n",
    "if os.path.isfile(fname):\n",
    "    ermsd_full = pickle.load(open(fname,'rb'), encoding='bytes')\n",
    "else:\n",
    "    ermsd_full = bb.ermsd(native,trj,topology=top)\n",
    "    pickle.dump(ermsd_full,open(fname, 'wb'))\n",
    "    \n"
   ]
  },
  {
   "cell_type": "code",
   "execution_count": 3,
   "metadata": {},
   "outputs": [
    {
     "name": "stdout",
     "output_type": "stream",
     "text": [
      "# found  294 atoms in common\n",
      "# found  294 atoms in common\n",
      "# found  294 atoms in common\n"
     ]
    }
   ],
   "source": [
    "# calculate rmsd from 2KOC, full structure \n",
    "fname = \"data/observables/rmsd_full_2koc.p\"\n",
    "if os.path.isfile(fname):\n",
    "    rmsd_full_2koc = pickle.load(open(fname,'rb'), encoding='bytes')\n",
    "else:\n",
    "    rmsd_full_2koc = bb.rmsd(native,top1,topology=top1,heavy_atom=True)\n",
    "    pickle.dump(rmsd_full_2koc,open(fname, 'wb'))\n",
    "\n",
    "fname = \"data/observables/rmsd_full_6by5.p\"\n",
    "if os.path.isfile(fname):\n",
    "    rmsd_full_6by5 = pickle.load(open(fname,'rb'), encoding='bytes')\n",
    "else:\n",
    "    rmsd_full_6by5 = bb.rmsd(native,top2,topology=top2,heavy_atom=True)\n",
    "    pickle.dump(rmsd_full_6by5,open(fname, 'wb'))\n",
    "    \n",
    "fname = \"data/observables/rmsd_full.p\"\n",
    "if os.path.isfile(fname):\n",
    "    rmsd_full = pickle.load(open(fname,'rb'), encoding='bytes')\n",
    "else:\n",
    "    rmsd_full = bb.rmsd(native,trj,topology=top,heavy_atom=True)\n",
    "    pickle.dump(rmsd_full,open(fname, 'wb'))\n",
    "    "
   ]
  },
  {
   "cell_type": "code",
   "execution_count": 4,
   "metadata": {},
   "outputs": [
    {
     "name": "stderr",
     "output_type": "stream",
     "text": [
      "# Loaded reference data/PDB/2koc_gmx.pdb \n",
      "# Loaded target data/PDB/2koc.pdb \n",
      "# Loaded reference data/PDB/2koc_gmx.pdb \n",
      "# Loaded target data/PDB/6by5.pdb \n",
      "# Loaded reference data/PDB/2koc_gmx.pdb \n",
      "# Loaded target data/traj_temp_f_0.xtc \n"
     ]
    }
   ],
   "source": [
    "# calculate ermsd from 2KOC, stem only  \n",
    "fname = \"data/observables/ermsd_stem_2koc.p\"\n",
    "if os.path.isfile(fname):\n",
    "    ermsd_stem_2koc = pickle.load(open(fname,'rb'), encoding='bytes')\n",
    "else:\n",
    "    ermsd_stem_2koc = bb.ermsd(native,top1,topology=top1,residues_ref=[0,1,2,3,4,9,10,11,12,13],residues_target=[0,1,2,3,4,9,10,11,12,13])\n",
    "    pickle.dump(ermsd_stem_2koc,open(fname, 'wb'))\n",
    "\n",
    "fname = \"data/observables/ermsd_stem_6by5.p\"\n",
    "if os.path.isfile(fname):\n",
    "    ermsd_stem_6by5 = pickle.load(open(fname,'rb'), encoding='bytes')\n",
    "else:\n",
    "    ermsd_stem_6by5 = bb.ermsd(native,top2,topology=top2,residues_ref=[0,1,2,3,4,9,10,11,12,13],residues_target=[0,1,2,3,4,9,10,11,12,13])\n",
    "    pickle.dump(ermsd_stem_6by5,open(fname, 'wb'))\n",
    "    \n",
    "fname = \"data/observables/ermsd_stem.p\"\n",
    "if os.path.isfile(fname):\n",
    "    ermsd_stem = pickle.load(open(fname,'rb'), encoding='bytes')\n",
    "else:\n",
    "    ermsd_stem = bb.ermsd(native,trj,topology=top,residues_ref=[0,1,2,3,4,9,10,11,12,13],residues_target=[0,1,2,3,4,9,10,11,12,13])\n",
    "    pickle.dump(ermsd_stem,open(fname, 'wb'))"
   ]
  },
  {
   "cell_type": "code",
   "execution_count": 5,
   "metadata": {},
   "outputs": [
    {
     "name": "stderr",
     "output_type": "stream",
     "text": [
      "# Loaded reference data/PDB/2koc_gmx.pdb \n",
      "# Loaded target data/PDB/2koc.pdb \n",
      "# Loaded reference data/PDB/2koc_gmx.pdb \n",
      "# Loaded target data/PDB/6by5.pdb \n",
      "# Loaded reference data/PDB/2koc_gmx.pdb \n",
      "# Loaded target data/traj_temp_f_0.xtc \n"
     ]
    }
   ],
   "source": [
    "# calculate ermsd from 2KOC, loop only  \n",
    "\n",
    "fname = \"data/observables/ermsd_loop_2koc.p\"\n",
    "if os.path.isfile(fname):\n",
    "    ermsd_loop_2koc = pickle.load(open(fname,'rb'), encoding='bytes')\n",
    "else:\n",
    "    ermsd_loop_2koc = bb.ermsd(native,top1,topology=top1,residues_ref=[4,5,6,7,8,9],residues_target=[4,5,6,7,8,9])\n",
    "    pickle.dump(ermsd_loop_2koc,open(fname, 'wb'))\n",
    "\n",
    "fname = \"data/observables/ermsd_loop_6by5.p\"\n",
    "if os.path.isfile(fname):\n",
    "    ermsd_loop_6by5 = pickle.load(open(fname,'rb'), encoding='bytes')\n",
    "else:\n",
    "    ermsd_loop_6by5 = bb.ermsd(native,top2,topology=top2,residues_ref=[4,5,6,7,8,9],residues_target=[4,5,6,7,8,9])\n",
    "    pickle.dump(ermsd_loop_6by5,open(fname, 'wb'))\n",
    "    \n",
    "fname = \"data/observables/ermsd_loop.p\"\n",
    "if os.path.isfile(fname):\n",
    "    ermsd_loop = pickle.load(open(fname,'rb'), encoding='bytes')\n",
    "else:\n",
    "    ermsd_loop = bb.ermsd(native,trj,topology=top,residues_ref=[4,5,6,7,8,9],residues_target=[4,5,6,7,8,9])\n",
    "    pickle.dump(ermsd_loop,open(fname, 'wb'))"
   ]
  },
  {
   "cell_type": "code",
   "execution_count": 6,
   "metadata": {},
   "outputs": [
    {
     "name": "stderr",
     "output_type": "stream",
     "text": [
      "# Loading data/PDB/2koc.pdb \n",
      "# Loading data/PDB/6by5.pdb \n",
      "# Loading data/traj_temp_f_0.xtc \n"
     ]
    }
   ],
   "source": [
    "# calculate backbone angles  \n",
    "\n",
    "fname = \"data/observables/angles_2koc.p\"\n",
    "if os.path.isfile(fname):\n",
    "    [angles_2koc,res_2koc] = pickle.load(open(fname,'rb'), encoding='bytes')\n",
    "else:\n",
    "    [angles_2koc,res_2koc] = bb.backbone_angles(top1,topology=top1)\n",
    "    pickle.dump( [angles_2koc,res_2koc] ,open(fname, 'wb'))\n",
    "\n",
    "fname = \"data/observables/angles_6by5.p\"\n",
    "if os.path.isfile(fname):\n",
    "    [angles_6by5,res_6by5] = pickle.load(open(fname,'rb'), encoding='bytes')\n",
    "else:\n",
    "    [angles_6by5,res_6by5] = bb.backbone_angles(top2,topology=top2)\n",
    "    pickle.dump( [angles_6by5,res_6by5] ,open(fname, 'wb'))\n",
    "\n",
    "fname = \"data/observables/angles.p\"\n",
    "if os.path.isfile(fname):\n",
    "    [angles,res] = pickle.load(open(fname,'rb'), encoding='bytes')\n",
    "else:\n",
    "    [angles,res] = bb.backbone_angles(trj,topology=top)\n",
    "    pickle.dump( [angles,res] ,open(fname, 'wb'))"
   ]
  },
  {
   "cell_type": "code",
   "execution_count": 7,
   "metadata": {},
   "outputs": [
    {
     "name": "stderr",
     "output_type": "stream",
     "text": [
      "# Loading data/PDB/2koc.pdb \n",
      "# Loading data/PDB/6by5.pdb \n",
      "# Loading data/traj_temp_f_0.xtc \n"
     ]
    }
   ],
   "source": [
    "# calculate vectors connecting the centers of the six-mbemberd rings\n",
    "fname = \"data/observables/rvecs_2koc.p\"\n",
    "if os.path.isfile(fname):\n",
    "    [rvecs_2koc,res_2koc] = pickle.load(open(fname,'rb'), encoding='bytes')\n",
    "else:\n",
    "    [rvecs_2koc,res_2koc] = bb.dump_rvec(top1,topology=top1,cutoff=100)\n",
    "    pickle.dump( [rvecs_2koc,res_2koc] ,open(fname, 'wb'))\n",
    "\n",
    "fname = \"data/observables/rvecs_6by5.p\"\n",
    "if os.path.isfile(fname):\n",
    "    [rvecs_6by5,res_6by5] = pickle.load(open(fname,'rb'), encoding='bytes')\n",
    "else:\n",
    "    [rvecs_6by5,res_6by5] = bb.dump_rvec(top2,topology=top2,cutoff=100)\n",
    "    pickle.dump( [rvecs_6by5,res_6by5] ,open(fname, 'wb'))\n",
    "\n",
    "fname = \"data/observables/rvecs.p\"\n",
    "if os.path.isfile(fname):\n",
    "    [rvecs,res] = pickle.load(open(fname,'rb'), encoding='bytes')\n",
    "else:\n",
    "    [rvecs,res] = bb.dump_rvec(trj,topology=top,cutoff=100)\n",
    "    pickle.dump( [rvecs,res] ,open(fname, 'wb'))\n",
    "\n"
   ]
  }
 ],
 "metadata": {
  "kernelspec": {
   "display_name": "Python 3",
   "language": "python",
   "name": "python3"
  },
  "language_info": {
   "codemirror_mode": {
    "name": "ipython",
    "version": 3
   },
   "file_extension": ".py",
   "mimetype": "text/x-python",
   "name": "python",
   "nbconvert_exporter": "python",
   "pygments_lexer": "ipython3",
   "version": "3.6.9"
  }
 },
 "nbformat": 4,
 "nbformat_minor": 2
}
