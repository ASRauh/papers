{
 "cells": [
  {
   "cell_type": "code",
   "execution_count": 16,
   "id": "elder-basic",
   "metadata": {},
   "outputs": [],
   "source": [
    "import sys\n",
    "import numpy as np"
   ]
  },
  {
   "cell_type": "code",
   "execution_count": 17,
   "id": "inside-shoot",
   "metadata": {},
   "outputs": [],
   "source": [
    "#Topology file with rubberbands\n",
    "topfile=\"all_PRO.top\"\n",
    "\n",
    "#Output topology with modified rubberbands\n",
    "outfile=\"rubberbands_all_PRO.top\""
   ]
  },
  {
   "cell_type": "code",
   "execution_count": 18,
   "id": "polar-riverside",
   "metadata": {},
   "outputs": [],
   "source": [
    "#Number of domains in which to keep interdomain rubberbands\n",
    "nr_domains = 3\n",
    "\n",
    "#List of start and stop atoms of domain borders\n",
    "#Given in the form [domain 1 start-atom, domain 1 stop-atom, domain 2 start-atom, domain 2 stop-atom]\n",
    "start_stop_atoms = [1, 187, 214, 400, 444, 645]"
   ]
  },
  {
   "cell_type": "code",
   "execution_count": 19,
   "id": "polish-athens",
   "metadata": {},
   "outputs": [],
   "source": [
    "#Check that there are start and stop atoms for all domains\n",
    "assert len(start_stop_atoms) == 2*nr_domains"
   ]
  },
  {
   "cell_type": "code",
   "execution_count": 20,
   "id": "dimensional-document",
   "metadata": {},
   "outputs": [],
   "source": [
    "#Function to return rubberbands only if both atoms are within atom_start and atom_stop\n",
    "#Toplines are all lines of the topology file - start_line and end_line are the indeces of the rubber-band section\n",
    "def rubberbands_to_keep_domain(atom_start, atom_stop, toplines, start_line, end_line):\n",
    "    \n",
    "    lines_to_keep = []\n",
    "\n",
    "    for line in toplines[start_line:end_line]:\n",
    "        linesplit = line.split()\n",
    "\n",
    "        if int(linesplit[0]) >= int(atom_start) and int(linesplit[0]) <= int(atom_stop) and int(linesplit[1]) >= int(atom_start) and int(linesplit[1]) <= int(atom_stop):\n",
    "            lines_to_keep.append(line)\n",
    "    return lines_to_keep"
   ]
  },
  {
   "cell_type": "code",
   "execution_count": 21,
   "id": "starting-fields",
   "metadata": {},
   "outputs": [
    {
     "name": "stdout",
     "output_type": "stream",
     "text": [
      "Rubber bands are from line 357509 to line 360812 in all_PRO.top\n"
     ]
    }
   ],
   "source": [
    "#Find Rubber band lines in topfile\n",
    "with open(topfile, 'r') as f:\n",
    "    toplines = f.readlines()\n",
    "\n",
    "for i in range(len(toplines)):\n",
    "    if '; Rubber band' in toplines[i]:\n",
    "        start_line = int(i+1)\n",
    "        break\n",
    "\n",
    "for i in range(len(toplines)):\n",
    "    if ';' in toplines[i] and i>start_line:\n",
    "        end_line = int(i-1)\n",
    "        break\n",
    "\n",
    "print(\"Rubber bands are from line %s to line %s in %s\" % (start_line, end_line, topfile))\n"
   ]
  },
  {
   "cell_type": "code",
   "execution_count": 22,
   "id": "given-attack",
   "metadata": {},
   "outputs": [
    {
     "name": "stdout",
     "output_type": "stream",
     "text": [
      "Writing Rubber bands for domain 1 from atom 1 to 187\n",
      "Writing Rubber bands for domain 2 from atom 214 to 400\n",
      "Writing Rubber bands for domain 3 from atom 444 to 645\n"
     ]
    }
   ],
   "source": [
    "#Write to outfile\n",
    "with open(outfile, 'w') as f:\n",
    "    \n",
    "    #Write topology before Rubberbands\n",
    "    for line in toplines[:start_line]:\n",
    "        f.write(line)\n",
    "    \n",
    "    #Get rubberbands for each domain and write to file\n",
    "    j=0\n",
    "    for i in range(nr_domains):\n",
    "        print(\"Writing Rubber bands for domain %i from atom %i to %i\" % (i+1, start_stop_atoms[j], start_stop_atoms[j+1]))\n",
    "        rubberbands = rubberbands_to_keep_domain(start_stop_atoms[j], start_stop_atoms[j+1], toplines, start_line, end_line)\n",
    "        for line in rubberbands:\n",
    "            f.write(line)\n",
    "        \n",
    "        j+=2\n",
    "    \n",
    "    #Write rest of topology\n",
    "    for line in toplines[end_line:]:\n",
    "        f.write(line)"
   ]
  },
  {
   "cell_type": "code",
   "execution_count": null,
   "id": "accurate-topic",
   "metadata": {},
   "outputs": [],
   "source": []
  },
  {
   "cell_type": "code",
   "execution_count": null,
   "id": "applicable-nylon",
   "metadata": {},
   "outputs": [],
   "source": []
  }
 ],
 "metadata": {
  "kernelspec": {
   "display_name": "Python 3",
   "language": "python",
   "name": "python3"
  },
  "language_info": {
   "codemirror_mode": {
    "name": "ipython",
    "version": 3
   },
   "file_extension": ".py",
   "mimetype": "text/x-python",
   "name": "python",
   "nbconvert_exporter": "python",
   "pygments_lexer": "ipython3",
   "version": "3.7.9"
  }
 },
 "nbformat": 4,
 "nbformat_minor": 5
}
