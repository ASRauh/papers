{
 "cells": [
  {
   "cell_type": "markdown",
   "id": "62946a0d",
   "metadata": {},
   "source": [
    "## Calculation of $c_{sat}$ and $c_{con}$ from multi-chain molecular simulations in slab geometry\n",
    "\n",
    "Authors: Giulio Tesei\n",
    "\n",
    "Contact: giulio.tesei@bio.ku.dk\n",
    "\n",
    "The calculations in the cells below require the data in `multi-chain/data/M1`, `multi-chain/data/M2`, `multi-chain/data/M3`, `multi-chain/data/HPS` and `multi-chain/data/Urry` which are available on Zenodo at DOI."
   ]
  },
  {
   "cell_type": "code",
   "execution_count": null,
   "id": "668e6dea",
   "metadata": {},
   "outputs": [],
   "source": [
    "import mdtraj as md\n",
    "import numpy as np\n",
    "%matplotlib inline\n",
    "import matplotlib.pyplot as plt\n",
    "import matplotlib as mpl\n",
    "import pandas as pd\n",
    "import string\n",
    "import os\n",
    "from scipy.optimize import least_squares\n",
    "from scipy.optimize import curve_fit\n",
    "from mpl_toolkits.axes_grid1 import make_axes_locatable\n",
    "from cycler import cycler\n",
    "\n",
    "plt.rc('axes', prop_cycle = cycler('color', ['#377eb8', '#ff7f00', '#4daf4a',\n",
    "                  '#e41a1c', '#984ea3', '#f781bf', '#a65628', \n",
    "                  '#999999', '#dede00']))\n",
    "cm = ['#377eb8', '#ff7f00', '#4daf4a', '#e41a1c', '#984ea3',\n",
    "                  '#f781bf', '#a65628', \n",
    "                  '#999999', '#dede00']"
   ]
  },
  {
   "cell_type": "code",
   "execution_count": null,
   "id": "45f411b3",
   "metadata": {},
   "outputs": [],
   "source": [
    "def plotProfiles(T,L,proteins,model,value,error,nskip=1200):\n",
    "    for i,m in enumerate(proteins):\n",
    "        if os.path.isfile('multi-chain/data/'+model+'/{:s}_{:d}.npy'.format(m,T)):\n",
    "            h = np.load('multi-chain/data/'+model+'/{:s}_{:d}.npy'.format(m,T))\n",
    "            fasta = df_proteins.loc[m].fasta\n",
    "            N = len(fasta)\n",
    "            mw = np.sum([df_residues.loc[r].MW for r in fasta])+18\n",
    "            conv = 100/6.022/N/L/L*1e3\n",
    "            h = h[nskip:]*conv \n",
    "            lz = h.shape[1]+1\n",
    "            edges = np.arange(-lz/2.,lz/2.,1)/10\n",
    "            dz = (edges[1]-edges[0])/2.\n",
    "            z = edges[:-1]+dz\n",
    "            profile = lambda x,a,b,c,d : .5*(a+b)+.5*(b-a)*np.tanh((np.abs(x)-c)/d)\n",
    "            residuals = lambda params,*args : ( args[1] - profile(args[0], *params) )\n",
    "            hm = np.mean(h,axis=0)\n",
    "            #zmid = z[hm>np.quantile(hm,.98)].mean()\n",
    "            #z -= zmid\n",
    "            z1 = z[z>0]\n",
    "            h1 = hm[z>0]\n",
    "            z2 = z[z<0]\n",
    "            h2 = hm[z<0]\n",
    "            p0=[hm.min(),hm.max(),3,1]\n",
    "            res1 = least_squares(residuals, x0=p0, args=[z1, h1], bounds=([0]*4,[1e3]*4))\n",
    "            res2 = least_squares(residuals, x0=p0, args=[z2, h2], bounds=([0]*4,[1e3]*4))\n",
    "            \n",
    "            if (res1.x[3]>res1.x[2]) or (res2.x[3]>res2.x[2]):\n",
    "                zDS = res1.x[2] if res1.x[2]>res2.x[2] else res2.x[2]\n",
    "                zDS = 10 if zDS<1 else zDS\n",
    "                cutoffs1 = [zDS,-zDS]\n",
    "                cutoffs2 = [zDS+25,-zDS-25]\n",
    "            else:\n",
    "                cutoffs1 = [res1.x[2]-.5*res1.x[3],-res2.x[2]+.5*res2.x[3]]\n",
    "                cutoffs2 = [res1.x[2]+6*res1.x[3],-res2.x[2]-6*res2.x[3]]\n",
    "                \n",
    "            bool1 = np.logical_and(z<cutoffs1[0],z>cutoffs1[1])\n",
    "            bool2 = np.logical_or(z>cutoffs2[0],z<cutoffs2[1])\n",
    "\n",
    "            dilarray = np.apply_along_axis(lambda a: a[bool2].mean(), 1, h)\n",
    "            denarray = np.apply_along_axis(lambda a: a[bool1].mean(), 1, h)\n",
    "\n",
    "            dil = hm[bool2].mean()\n",
    "            den = hm[bool1].mean()\n",
    "            \n",
    "            value.loc[m,model+'_dil'] = dilarray.mean() # (res1.x[1]+res2.x[1])/2. \n",
    "            value.loc[m,model+'_den'] = denarray.mean() # (res1.x[0]+res2.x[0])/2. \n",
    "            value.loc[m][model+'_dilarray'] = dilarray \n",
    "            value.loc[m][model+'_denarray'] = denarray \n",
    "            rhoden = []\n",
    "            rhodil = []\n",
    "            chunk = 1200\n",
    "            split_array = [h[h.shape[0]%chunk:][i*chunk:(i+1)*chunk] for i in range(h.shape[0]//chunk)]\n",
    "            for hs in split_array:\n",
    "                hm = np.mean(hs,axis=0)  \n",
    "                dil = hm[bool2].mean()\n",
    "                den = hm[bool1].mean()\n",
    "                rhodil.append( dil )\n",
    "                rhoden.append( den )\n",
    "            error.loc[m,model+'_dil'] = np.std(rhodil)/np.sqrt(len(rhodil))\n",
    "            error.loc[m,model+'_den'] = np.std(rhoden)/np.sqrt(len(rhoden))\n",
    "            print(m,mw,len(rhodil),value.loc[m,model+'_dil'],'±',error.loc[m,model+'_dil'],\n",
    "                  1e-3*mw*value.loc[m,model+'_dil'],cutoffs2)\n",
    "            print(m,mw,len(rhodil),value.loc[m,model+'_den'],'±',error.loc[m,model+'_den'],\n",
    "                  1e-3*mw*value.loc[m,model+'_den'])\n",
    "            if np.abs(cutoffs2[1]/cutoffs2[0]) > 2:\n",
    "                print('WRONG')\n",
    "            if np.abs(cutoffs2[1]/cutoffs2[0]) < 0.5:\n",
    "                print('WRONG')\n",
    "        else:\n",
    "            print('DATA NOT FOUND FOR',m)"
   ]
  },
  {
   "cell_type": "code",
   "execution_count": null,
   "id": "58d57b82",
   "metadata": {},
   "outputs": [],
   "source": [
    "df_proteins = pd.read_pickle('multi-chain/proteins.pkl')\n",
    "df_residues = pd.read_csv('residues.csv').set_index('one')"
   ]
  },
  {
   "cell_type": "markdown",
   "id": "39947b7a",
   "metadata": {},
   "source": [
    "Calculate $c_{sat}$ and $c_{con}$ from simulations at 323 K (HPS, M1–3) and 297 K (Urry)."
   ]
  },
  {
   "cell_type": "code",
   "execution_count": null,
   "id": "47d088fb",
   "metadata": {},
   "outputs": [],
   "source": [
    "ms = ['Urry_den','Urry_dil','HPS_den','HPS_dil','M1_den','M1_dil','M2_den','M2_dil','M3_den','M3_dil',\n",
    "     'Urry_dilarray','HPS_dilarray','M1_dilarray','M2_dilarray','M3_dilarray',\n",
    "     'Urry_denarray','HPS_denarray','M1_denarray','M2_denarray','M3_denarray']\n",
    "vv = pd.DataFrame(columns=ms,\n",
    "        index=['LAF1300_80','LAF1300','LAF1300shuf','LAF1300D2130','LAF1HOOMD','LAF1','LAF1_80','LAF1D2130','LAF1shuf',\n",
    "               'A2NS','M12FP12Y','P4D','M6R','A1','P8D','P7FM7Y',\n",
    "               'M8FP4Y','M4D','M9FP3Y','M10R','P7R','FUS','A2','Ddx4WT','P12D','P2R','M3RP3K','P7KP12D'])\n",
    "ee = vv.copy()\n",
    "\n",
    "for m in ['Urry','HPS','M1','M2','M3']: \n",
    "    print(m)\n",
    "    T = 297 if m=='Urry' else 323\n",
    "    plotProfiles(T,17,['Ddx4WT'],m,vv,ee)\n",
    "    plotProfiles(T,24,['LAF1300_80','LAF1300','LAF1300shuf','LAF1300D2130'],m,vv,ee)\n",
    "    plotProfiles(T,15,['LAF1HOOMD','LAF1','LAF1_80','LAF1D2130','LAF1shuf','A2NS','M12FP12Y','P4D','M6R','A1','P8D',\n",
    "            'P7FM7Y','M8FP4Y','M4D','M9FP3Y','M10R','P7R','FUS','A2','P12D','P2R','M3RP3K','P7KP12D'],m,vv,ee)\n",
    "\n",
    "vv.to_pickle('multi-chain/data/rho_dense_value.pkl')\n",
    "\n",
    "ee.to_pickle('multi-chain/data/rho_dense_error.pkl')"
   ]
  },
  {
   "cell_type": "markdown",
   "id": "675da4f0",
   "metadata": {},
   "source": [
    "Calculate $c_{sat}$ and $c_{con}$ from simulations of A1 LCD variants performed with M1–3 at 310 K."
   ]
  },
  {
   "cell_type": "code",
   "execution_count": null,
   "id": "71d865db",
   "metadata": {},
   "outputs": [],
   "source": [
    "ms = ['M1_den','M1_dil','M2_den','M2_dil','M3_den','M3_dil',\n",
    "     'M1_dilarray','M2_dilarray','M3_dilarray',\n",
    "     'M1_denarray','M2_denarray','M3_denarray']\n",
    "vv = pd.DataFrame(columns=ms,\n",
    "        index=['M6R','A1','P8D','P7FM7Y','M8FP4Y','M4D','M9FP3Y','M10R','P7R'])\n",
    "ee = vv.copy()\n",
    "\n",
    "for m in ['M1','M2','M3']: \n",
    "    print(m)\n",
    "    plotProfiles(310,15,['M6R','A1','P8D','P7FM7Y','M8FP4Y','M4D','M9FP3Y','M10R','P7R'],m,vv,ee)\n",
    "\n",
    "vv.to_pickle('multi-chain/data/rho_dense_value_310.pkl')\n",
    "\n",
    "ee.to_pickle('multi-chain/data/rho_dense_error_310.pkl')"
   ]
  },
  {
   "cell_type": "markdown",
   "id": "dae55225",
   "metadata": {},
   "source": [
    "Calculate $c_{sat}$ and $c_{con}$ from simulations of Ddx4 LCD variants at 297 K. "
   ]
  },
  {
   "cell_type": "code",
   "execution_count": null,
   "id": "c4e3291b",
   "metadata": {},
   "outputs": [],
   "source": [
    "ms = ['Urry_den','Urry_dil','HPS_den','HPS_dil','M1_den','M1_dil','M2_den','M2_dil','M3_den','M3_dil',\n",
    "     'Urry_dilarray','HPS_dilarray','M1_dilarray','M2_dilarray','M3_dilarray',\n",
    "     'Urry_denarray','HPS_denarray','M1_denarray','M2_denarray','M3_denarray']\n",
    "\n",
    "vv = pd.DataFrame(columns=ms,\n",
    "        index=['Ddx4WT','Ddx4CS','Ddx4FA','Ddx4RK'])\n",
    "ee = vv.copy()\n",
    "\n",
    "for m in ['Urry','HPS','M1','M2','M3']: \n",
    "    plotProfiles(297,17,['Ddx4WT','Ddx4CS','Ddx4FA','Ddx4RK'],m,vv,ee)\n",
    "\n",
    "vv.to_pickle('multi-chain/data/rho_dense_value_297.pkl')\n",
    "\n",
    "ee.to_pickle('multi-chain/data/rho_dense_error_297.pkl')"
   ]
  },
  {
   "cell_type": "code",
   "execution_count": null,
   "id": "8df343ec",
   "metadata": {},
   "outputs": [],
   "source": []
  }
 ],
 "metadata": {
  "kernelspec": {
   "display_name": "Python 3",
   "language": "python",
   "name": "python3"
  },
  "language_info": {
   "codemirror_mode": {
    "name": "ipython",
    "version": 3
   },
   "file_extension": ".py",
   "mimetype": "text/x-python",
   "name": "python",
   "nbconvert_exporter": "python",
   "pygments_lexer": "ipython3",
   "version": "3.8.10"
  }
 },
 "nbformat": 4,
 "nbformat_minor": 5
}
