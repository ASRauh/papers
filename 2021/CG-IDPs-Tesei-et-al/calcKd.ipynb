{
 "cells": [
  {
   "cell_type": "markdown",
   "id": "3114ddbe",
   "metadata": {},
   "source": [
    "## Calculation of $B_{22}$, $p_B$ and $K_d$ from two-chain molecular simulations\n",
    "\n",
    "Authors: Giulio Tesei and Thea Klarsø Schulze\n",
    "\n",
    "Contact: giulio.tesei@bio.ku.dk"
   ]
  },
  {
   "cell_type": "code",
   "execution_count": 1,
   "id": "e644a411",
   "metadata": {},
   "outputs": [],
   "source": [
    "import numpy as np\n",
    "import pandas as pd\n",
    "%matplotlib inline\n",
    "import matplotlib.pyplot as plt\n",
    "import matplotlib as mpl\n",
    "from mpl_toolkits.axes_grid1 import make_axes_locatable\n",
    "import random\n",
    "from scipy.optimize import curve_fit\n",
    "import warnings\n",
    "warnings.filterwarnings('ignore')\n",
    "from cycler import cycler\n",
    "cm = ['#377eb8', '#ff7f00', '#4daf4a', '#999999', '#e41a1c', '#a65628', '#984ea3',\n",
    "                  '#f781bf', '#dede00','#000000']\n",
    "plt.rc('axes', prop_cycle = cycler('color', cm))\n",
    "plt.rc('font', **{'family':'sans-serif','sans-serif':['Arial'], 'size': 6})"
   ]
  },
  {
   "cell_type": "markdown",
   "id": "5327e59b",
   "metadata": {},
   "source": [
    "#### Helper Functions"
   ]
  },
  {
   "cell_type": "code",
   "execution_count": 2,
   "id": "1d7a953e",
   "metadata": {},
   "outputs": [],
   "source": [
    "def binding_dual_cutoff(input_array,lower,upper):\n",
    "    binding_arr = np.zeros(len(input_array))\n",
    "    frame_no = 0\n",
    "\n",
    "    for ene in input_array:\n",
    "        if ene <= lower:\n",
    "            binding_arr[frame_no] = lower\n",
    "        elif ene >= upper:\n",
    "            binding_arr[frame_no] = upper\n",
    "        elif lower < ene < upper:\n",
    "            if binding_arr[frame_no-1] == lower:\n",
    "                binding_arr[frame_no] = lower\n",
    "            elif binding_arr[frame_no-1] == upper:\n",
    "                binding_arr[frame_no] = upper\n",
    "        else:\n",
    "            print('error in {}'.format(frame_no))\n",
    "        frame_no += 1\n",
    "\n",
    "    # calculate number of frames in bound and unbound states\n",
    "\n",
    "    # if limits are positive, bound and unbound states have the\n",
    "    # same values as the upper and lower limit, respectively\n",
    "    if lower > 0 and upper > 0:\n",
    "        bound = np.count_nonzero(binding_arr == upper)\n",
    "        unbound = np.count_nonzero(binding_arr == lower)\n",
    "\n",
    "    # if limits are negative, bound and unbound states have the\n",
    "    # same values as the lower and upper limit, respectively\n",
    "    if lower < 0 and upper < 0:\n",
    "        bound = np.count_nonzero(binding_arr == lower)\n",
    "        unbound = np.count_nonzero(binding_arr == upper)\n",
    "\n",
    "    return binding_arr, bound, unbound    \n",
    "    \n",
    "def kd_from_timeseries(p_bound,L):\n",
    "    # Avogadro's number in units 1/mol\n",
    "    N_A = 6.02214076*1e23\n",
    "    # Volume of simulation box in L\n",
    "    V = 1e3*(L*1e-09)**3\n",
    "    # kd (in mol/L) determined from p_bound\n",
    "    kd = ((1-p_bound)**2) / (N_A*V*p_bound)\n",
    "    return kd\n",
    "\n",
    "def kd_from_b22(b22,p_bound,L,MW):\n",
    "    # Avogadro's number in units 1/mol\n",
    "    N_A = 6.02214076*1e23\n",
    "    # Volume of simulation box in L\n",
    "    V = ((L*1e-09)**3)*1000\n",
    "    # conversion factor for b22 (from µl mol / g2 to L) \n",
    "    convert_units = (MW**2)*1e-6/N_A\n",
    "    return 1/(N_A*p_bound*(V-2*b22*convert_units))\n",
    "\n",
    "def correctRDF(r,rdf,L):\n",
    "    # Ganguly and van der Vegt, DOI: 10.1021/ct301017q\n",
    "    dr = r[1]-r[0]\n",
    "    V = L**3\n",
    "    Nouter = 1 - 4/3*np.pi*r**3 / V\n",
    "    DeltaN = 1/V*4*np.pi*dr*np.cumsum( (rdf - 1 ) * r**2)\n",
    "    return rdf * Nouter / ( Nouter  - DeltaN)\n",
    "\n",
    "def calcB22(r,rdf,MW):\n",
    "    B22 = -2*np.pi*np.trapz((rdf-1)*r*r,r)\n",
    "    return B22 * 6.022e23 / 1e21 / MW**2 * 1e3 # µl mol / g2\n",
    "\n",
    "def calcB22blocks(df_rdf,L,MW):\n",
    "    B22 = {}\n",
    "    B22_E = {}\n",
    "    B22_blocks = {}\n",
    "    bootstrap = {}\n",
    "    for m in ['M1','M2','M3']:\n",
    "        B22_blocks[m] = []\n",
    "        bootstrap[m] = []\n",
    "        rdf = []\n",
    "        for run in range(1,11):\n",
    "            for k in range(4):\n",
    "                y = df_rdf['{:s}_{:d}_{:d}'.format(m,run,k)]\n",
    "                rdf.append(y)\n",
    "                B22_blocks[m].append(calcB22(y.index,correctRDF(y.index,y.values,L),MW))\n",
    "        for _ in range(1000):\n",
    "            picked = random.choices(B22_blocks[m],k=len(B22_blocks[m]))\n",
    "            bootstrap[m].append(np.mean(picked))\n",
    "        mean = np.mean(rdf,axis=0)\n",
    "        std = np.std(rdf,axis=0)\n",
    "        rdf = df_rdf[m]\n",
    "        crdf = correctRDF(df_rdf.index,rdf,L)\n",
    "        B22[m] = calcB22(df_rdf.index,crdf,MW)\n",
    "        B22_E[m] = np.std(B22_blocks[m])/np.sqrt(len(B22_blocks[m]))\n",
    "    return B22, B22_E\n",
    "\n",
    "def concatE(name,N_replicas):\n",
    "    df_M1 = np.zeros(0)\n",
    "    df_M2 = np.zeros(0)\n",
    "    df_M3 = np.zeros(0)\n",
    "    for i in range(1,N_replicas+1):\n",
    "        df_M1 = np.append( df_M1, np.load('two-chain/data/maps/{:s}_M1_{:d}_energies.npy'.format(name,i)) )\n",
    "        df_M2 = np.append( df_M2, np.load('two-chain/data/maps/{:s}_M2_{:d}_energies.npy'.format(name,i)) )\n",
    "        df_M3 = np.append( df_M3, np.load('two-chain/data/maps/{:s}_M3_{:d}_energies.npy'.format(name,i)) )\n",
    "    return {'M1':df_M1, 'M2':df_M2, 'M3':df_M3}\n",
    "\n",
    "def calcPB(name,N_replicas,N,m):\n",
    "    norm = N*np.log(N)\n",
    "    energies = concatE(name,N_replicas)[m]/norm\n",
    "    energies = energies[energies!=0]\n",
    "    c1,c2 = -0.07,-0.05\n",
    "    p_bound_list = []\n",
    "    for i in range(1,N_replicas+1):\n",
    "        energy = np.load('two-chain/data/maps/{:s}_{:s}_{:d}_energies.npy'.format(name,m,i))/norm\n",
    "        binding_arr, bound, unbound = binding_dual_cutoff(energy, c1, c2)\n",
    "        p_bound = bound / (bound + unbound)\n",
    "        p_bound_list.append(p_bound)\n",
    "    pB = np.mean(p_bound_list)\n",
    "    pB_E = np.std(p_bound_list)\n",
    "    return pB*1e2, pB_E*1e2\n",
    "\n",
    "def scanCutoffs(name,N_replicas,box_size,m):\n",
    "    proteins = pd.read_pickle('two-chain/proteins.pkl')\n",
    "    residues = pd.read_csv('residues.csv').set_index('one')\n",
    "    fasta = proteins.loc[name].fasta\n",
    "    N = len(fasta)\n",
    "    norm = N*np.log(N)\n",
    "    MW = np.sum([residues.loc[r].MW for r in fasta])+18\n",
    "    df_rdf = pd.read_pickle('two-chain/data/{:s}_rdfs.pkl'.format(name))\n",
    "    b22 = calcB22blocks(df_rdf,box_size,MW)[0][m]\n",
    "    emin = concatE(name,N_replicas)[m].min()/norm\n",
    "    print(emin,10/norm)\n",
    "    cutoffs = np.array([[i,j] for i in np.arange(-.15,0.01,.01) for j in np.arange(i+0.01,0,0.01)])    \n",
    "    diff_list = [] \n",
    "    kd_ene_list = []\n",
    "    kd_b22_list = [] \n",
    "    pB_list = [] \n",
    "    for k in cutoffs:\n",
    "        # calculate p_bound for every cutoff combinations\n",
    "        p_bound_list = []\n",
    "        for i in range(1,N_replicas+1):\n",
    "            energy = np.load('two-chain/data/maps/{:s}_{:s}_{:d}_energies.npy'.format(name,m,i))/norm\n",
    "            binding_arr, bound, unbound = binding_dual_cutoff(energy,k[0],k[1])\n",
    "            p_bound = bound / (bound + unbound)\n",
    "            p_bound_list.append(p_bound)\n",
    "        pB = np.average(p_bound_list)\n",
    "        # calculate kd based on average p_bound\n",
    "        kd_energies = kd_from_timeseries(pB,box_size)\n",
    "        # calculate kd from b22, also using the average p_bound\n",
    "        kd_b22 = kd_from_b22(b22,pB,box_size,MW)\n",
    "        # calculate some kind of percentage difference between the two\n",
    "        diff = abs(kd_energies-kd_b22) / (abs(kd_energies+kd_b22)/2) * 100\n",
    "        # add results to dict\n",
    "        diff_list.append(diff)\n",
    "        kd_ene_list.append(kd_energies)\n",
    "        kd_b22_list.append(kd_b22)\n",
    "        pB_list.append(pB)\n",
    "        df = pd.DataFrame(index=np.unique(cutoffs[:,0]),columns=np.unique(cutoffs[:,1]),dtype=float)\n",
    "        for (i,j),e in zip(cutoffs,diff_list):\n",
    "            df.loc[i,j] = e\n",
    "    return df\n",
    "\n",
    "def calcKd(name,N_replicas,box_size,m):\n",
    "    proteins = pd.read_pickle('two-chain/proteins.pkl')\n",
    "    residues = pd.read_csv('residues.csv').set_index('one')\n",
    "    fasta = proteins.loc[name].fasta\n",
    "    N = len(fasta)\n",
    "    norm = N*np.log(N)\n",
    "    MW = np.sum([residues.loc[r].MW for r in fasta])+18\n",
    "    df_rdf = pd.read_pickle('two-chain/data/{:s}_rdfs.pkl'.format(name))\n",
    "    b22, b22_E = calcB22blocks(df_rdf,box_size,MW)\n",
    "    b22 = b22[m]\n",
    "    b22_E = b22_E[m]\n",
    "    c1,c2 = -0.07,-0.05\n",
    "    p_bound_list = []\n",
    "    for i in range(1,N_replicas+1):\n",
    "        energy = np.load('two-chain/data/maps/{:s}_{:s}_{:d}_energies.npy'.format(name,m,i))/norm\n",
    "        binding_arr, bound, unbound = binding_dual_cutoff(energy, c1, c2)\n",
    "        p_bound = bound / (bound + unbound)\n",
    "        p_bound_list.append(p_bound)\n",
    "    pB = np.mean(p_bound_list)\n",
    "    pB_E = np.std(p_bound_list)\n",
    "    # calculate kd based on average p_bound\n",
    "    kd_energies = kd_from_timeseries(pB,box_size)\n",
    "    # calculate kd from b22, also using the average p_bound\n",
    "    kd_b22 = kd_from_b22(b22,pB,box_size,MW)\n",
    "    kd_err = np.std(kd_from_timeseries(np.array(p_bound_list),box_size))\n",
    "\n",
    "    return (kd_energies+kd_b22)/2*1e3, kd_err*1e3, pB*1e2, pB_E*1e2, b22, b22_E\n",
    "\n",
    "def calcKd_dual(name,N_replicas,box_size,m,\n",
    "                cutoffs=[(-0.09,-0.03),(-0.08,-0.04),(-0.07,-0.04),(-0.07,-0.05),(-0.06,-0.05)]):\n",
    "    proteins = pd.read_pickle('two-chain/proteins.pkl')\n",
    "    residues = pd.read_csv('residues.csv').set_index('one')\n",
    "    fasta = proteins.loc[name].fasta\n",
    "    N = len(fasta)\n",
    "    norm = N*np.log(N)\n",
    "    MW = np.sum([residues.loc[r].MW for r in fasta])+18\n",
    "    df_rdf = pd.read_pickle('two-chain/data/{:s}_rdfs.pkl'.format(name))\n",
    "    b22, b22_E = calcB22blocks(df_rdf,box_size,MW)\n",
    "    b22 = b22[m]\n",
    "    b22_E = b22_E[m]\n",
    "    pB_dual = []\n",
    "    Kd_dual = []\n",
    "    for c1,c2 in cutoffs:\n",
    "        p_bound_list = []\n",
    "        for i in range(1,N_replicas+1):\n",
    "            energy = np.load('two-chain/data/maps/{:s}_{:s}_{:d}_energies.npy'.format(name,m,i))/norm\n",
    "            binding_arr, bound, unbound = binding_dual_cutoff(energy, c1, c2)\n",
    "            p_bound = bound / (bound + unbound)\n",
    "            p_bound_list.append(p_bound)\n",
    "\n",
    "        pB = np.mean(p_bound_list)\n",
    "        kd_energies = kd_from_timeseries(pB,box_size)\n",
    "        kd_b22 = kd_from_b22(b22,pB,box_size,MW)\n",
    "        \n",
    "        Kd_dual.append((kd_energies+kd_b22)/2*1e3)\n",
    "        pB_dual.append(pB)\n",
    "\n",
    "    return np.mean(Kd_dual),np.std(Kd_dual),np.mean(pB_dual)*1e2,np.std(pB_dual)*1e2,b22,b22_E"
   ]
  },
  {
   "cell_type": "markdown",
   "id": "fab98828",
   "metadata": {},
   "source": [
    "Calculate the second virial coefficient, $B_{22}$, from the RDF of the mass centers of the two chains."
   ]
  },
  {
   "cell_type": "code",
   "execution_count": 3,
   "id": "b93c610e",
   "metadata": {},
   "outputs": [],
   "source": [
    "# Load the RDFs calculated for the ten replicas divided into 4 blocks of 875 ns\n",
    "FUS_rdfs = pd.read_pickle('two-chain/data/FUS_rdfs.pkl')\n",
    "A2_rdfs = pd.read_pickle('two-chain/data/A2_rdfs.pkl')\n",
    "\n",
    "# Calculate B22 estimating the error by boostrapping 1,000 times 40 B22 values calculated for the blocks \n",
    "B22_FUS, B22_FUS_E = calcB22blocks(FUS_rdfs,40.5,17168)\n",
    "B22_A2, B22_A2_E = calcB22blocks(A2_rdfs,48,14690)"
   ]
  },
  {
   "cell_type": "markdown",
   "id": "c10486f6",
   "metadata": {},
   "source": [
    "Plot the RDFs before and after correcting for the finite size of the simulation box according to [Ganguly and van der Vegt](https://doi.org/10.1021/ct301017q)."
   ]
  },
  {
   "cell_type": "code",
   "execution_count": 4,
   "id": "0f72e442",
   "metadata": {},
   "outputs": [
    {
     "data": {
      "image/png": "[encoded data removed]",
      "text/plain": [
       "<Figure size 504x129.6 with 4 Axes>"
      ]
     },
     "metadata": {
      "needs_background": "light"
     },
     "output_type": "display_data"
    }
   ],
   "source": [
    "fig, (ax1,ax2,ax3,ax4) = plt.subplots(1, 4, sharex=False, sharey=False, figsize=(7,1.8))\n",
    "\n",
    "for i,m in enumerate(['M1','M2','M3']):\n",
    "    rdf = FUS_rdfs[m]\n",
    "    crdf = correctRDF(rdf.index,rdf,40.5)\n",
    "    ax1.plot(rdf.index,rdf.values,color=plt.cm.tab10(i),label=m)\n",
    "    ax2.plot(rdf.index,crdf.values,color=plt.cm.tab10(i),label=m)\n",
    "    rdf = A2_rdfs[m]\n",
    "    crdf = correctRDF(rdf.index,rdf,48)\n",
    "    ax3.plot(rdf.index,rdf.values,color=plt.cm.tab10(i),label=m)\n",
    "    ax4.plot(rdf.index,crdf.values,color=plt.cm.tab10(i),label=m)\n",
    "for ax in (ax1,ax2,ax3,ax4):\n",
    "    ax.set_yscale('log')\n",
    "    ax.set_xlabel('$r$  /  nm')\n",
    "    ax.grid()\n",
    "ax1.set_xlim(0,20.25)\n",
    "ax2.set_xlim(0,20.25)\n",
    "ax3.set_xlim(0,24)\n",
    "ax4.set_xlim(0,24)\n",
    "ax1.set_ylim(0.78,100)\n",
    "ax2.set_ylim(0.78,100)\n",
    "ax3.set_ylim(0.78,200)\n",
    "ax4.set_ylim(0.78,200)\n",
    "ax1.set_ylabel('FUS LCD RDF')\n",
    "ax2.set_ylabel('Corrected FUS LCD RDF')\n",
    "ax3.set_ylabel('A2 LCD RDF')\n",
    "ax4.set_ylabel('Corrected A2 LCD RDF')\n",
    "fig.tight_layout()    \n",
    "plt.show()"
   ]
  },
  {
   "cell_type": "markdown",
   "id": "e60da9a6",
   "metadata": {},
   "source": [
    "We normalize the intermolecular non-electrostatic energy by $N\\log{N}$, where $N$ is the sequence length, and scan the dual cutoffs, [$e_{l}$,$e_{u}$], within $-0.15<e_{l}<-0.02$ kJ mol$^{-1}$ and $e_{l}+0.01<e_{u}<-0.01$ kJ mol$^{-1}$."
   ]
  },
  {
   "cell_type": "code",
   "execution_count": 5,
   "id": "e2dada50",
   "metadata": {},
   "outputs": [
    {
     "name": "stdout",
     "output_type": "stream",
     "text": [
      "-0.20404194957946023 0.012792125893933654\n",
      "-0.13435078488753208 0.012044111083778118\n",
      "-0.20849619415690576 0.012792125893933654\n",
      "-0.15464145756682274 0.012044111083778118\n",
      "-0.2085484003411442 0.012792125893933654\n",
      "-0.16191646817519467 0.012044111083778118\n"
     ]
    }
   ],
   "source": [
    "df_a2_m1 = scanCutoffs('A2',10,48,'M1')\n",
    "\n",
    "df_fus_m1 = scanCutoffs('FUS',10,40.5,'M1')\n",
    "\n",
    "df_a2_m2 = scanCutoffs('A2',10,48,'M2')\n",
    "\n",
    "df_fus_m2 = scanCutoffs('FUS',10,40.5,'M2')\n",
    "\n",
    "df_a2_m3 = scanCutoffs('A2',10,48,'M3')\n",
    "\n",
    "df_fus_m3 = scanCutoffs('FUS',10,40.5,'M3')\n",
    "\n",
    "cutoffs = pd.DataFrame(columns=['FUS','A2'],index=['M1','M2','M3'])\n",
    "\n",
    "all_x = np.empty(0)\n",
    "all_y = np.empty(0)\n",
    "for i,(a2,fus) in enumerate(zip([df_a2_m1,df_a2_m2,df_a2_m3],[df_fus_m1,df_fus_m2,df_fus_m3])):\n",
    "    x1 = np.array(fus[fus < 5].stack().index.tolist())[:,0]\n",
    "    y1 = np.array(fus[fus < 5].stack().index.tolist())[:,1]\n",
    "    cutoffs.loc['M'+str(i+1),'FUS'] = [x1,y1]\n",
    "    x2 = np.array(a2[a2 < 5].stack().index.tolist())[:,0]\n",
    "    y2 = np.array(a2[a2 < 5].stack().index.tolist())[:,1]\n",
    "    cutoffs.loc['M'+str(i+1),'A2'] = [x2,y2]\n",
    "    all_x = np.append(all_x,np.concatenate([x1,x2]))\n",
    "    all_y = np.append(all_y,np.concatenate([y1,y2]))\n",
    "cutoffs.to_pickle('two-chain/data/cutoffs.pkl')"
   ]
  },
  {
   "cell_type": "markdown",
   "id": "eeb9e65a",
   "metadata": {},
   "source": [
    "Load the intermolecular non-electrostatic energies for polyvaline chains of various length and calculate the absolute values of the minimum in the time series. "
   ]
  },
  {
   "cell_type": "code",
   "execution_count": 6,
   "id": "0d9837cc",
   "metadata": {},
   "outputs": [],
   "source": [
    "polyV_length = [50,100,150,200,250,300,400]\n",
    "frame_energies = {}\n",
    "for N in polyV_length:\n",
    "    ha = np.load('two-chain/data/polyV/{:s}_energies.npy'.format('V'+str(N)))\n",
    "    frame_energies[N] = ha\n",
    "frame_energies = pd.Series(frame_energies)\n",
    "min_energy = frame_energies.apply(lambda x : abs(x.min()))"
   ]
  },
  {
   "cell_type": "markdown",
   "id": "958b248e",
   "metadata": {},
   "source": [
    "Calculate the fraction of frames where the proteins are in a dimeric bound state."
   ]
  },
  {
   "cell_type": "code",
   "execution_count": 7,
   "id": "57224a70",
   "metadata": {},
   "outputs": [
    {
     "data": {
      "image/png": "[encoded data removed]",
      "text/plain": [
       "<Figure size 432x288 with 1 Axes>"
      ]
     },
     "metadata": {
      "needs_background": "light"
     },
     "output_type": "display_data"
    }
   ],
   "source": [
    "p = pd.read_pickle('two-chain/proteins.pkl')\n",
    "dfpB = pd.DataFrame(index=['aSyn','p15PAF','ht40','A2','FUS'],columns=['M1','M2','M3'])\n",
    "dfpB_E = dfpB.copy()\n",
    "for name,N_replicas in zip(dfpB.index,[2,2,2,10,10]): \n",
    "    for m in ['M1','M2','M3']:\n",
    "        a,b = calcPB(name,N_replicas,len(p.loc[name].fasta),m)\n",
    "        dfpB.loc[name,m] = a\n",
    "        dfpB_E.loc[name,m] = b\n",
    "dfpB.plot.bar(yerr=dfpB_E)\n",
    "plt.ylabel('% Probability of Bound State')\n",
    "dfpB.to_pickle('two-chain/data/pB_values.pkl')\n",
    "dfpB_E.to_pickle('two-chain/data/pB_errors.pkl')"
   ]
  },
  {
   "cell_type": "markdown",
   "id": "7f04a5fe",
   "metadata": {},
   "source": [
    "Calculate the dissociation constant, $K_d$, estimating the error as the SD of the ten replicas"
   ]
  },
  {
   "cell_type": "code",
   "execution_count": 8,
   "id": "6be33e73",
   "metadata": {},
   "outputs": [],
   "source": [
    "dfKd_A2 = pd.DataFrame(index=['M1','M2','M3'],columns=['Kd','Kd_E','pB','pB_E','B22','B22_E'])\n",
    "dfKd_FUS = dfKd_A2.copy()\n",
    "name = 'FUS'\n",
    "for m in ['M1','M2','M3']:\n",
    "    Kd, Kd_E, pB, pB_E, B22, B22_E = calcKd(name,N_replicas,p.loc[name].L,m)\n",
    "    dfKd_FUS.loc[m,['Kd','Kd_E','pB','pB_E','B22','B22_E']] = Kd, Kd_E, pB, pB_E, B22, B22_E  \n",
    "name = 'A2'\n",
    "for m in ['M1','M2','M3']:\n",
    "    Kd, Kd_E, pB, pB_E, B22, B22_E = calcKd(name,N_replicas,p.loc[name].L,m)\n",
    "    dfKd_A2.loc[m,['Kd','Kd_E','pB','pB_E','B22','B22_E']] = Kd, Kd_E, pB, pB_E, B22, B22_E \n",
    "dfKd_A2.to_pickle('two-chain/data/dfB22KdpB_A2.pkl')\n",
    "dfKd_FUS.to_pickle('two-chain/data/dfB22KdpB_FUS.pkl')"
   ]
  },
  {
   "cell_type": "markdown",
   "id": "62568f05",
   "metadata": {},
   "source": [
    "Calculate the dissociation constant, $K_d$, estimating the error as the SD of five dual cutoffs: (-0.09,-0.03), (-0.08,-0.04), (-0.07,-0.04), (-0.07,-0.05), (-0.06,-0.05)"
   ]
  },
  {
   "cell_type": "code",
   "execution_count": 9,
   "id": "9adacb8c",
   "metadata": {},
   "outputs": [],
   "source": [
    "dfKd_A2 = pd.DataFrame(index=['M1','M2','M3'],columns=['Kd','Kd_E','pB','pB_E','B22','B22_E'])\n",
    "dfKd_FUS = dfKd_A2.copy()\n",
    "name = 'FUS'\n",
    "for m in ['M1','M2','M3']:\n",
    "    Kd, Kd_E, pB, pB_E, B22, B22_E = calcKd_dual(name,N_replicas,p.loc[name].L,m)\n",
    "    dfKd_FUS.loc[m,['Kd','Kd_E','pB','pB_E','B22','B22_E']] = Kd, Kd_E, pB, pB_E, B22, B22_E \n",
    "name = 'A2'\n",
    "for m in ['M1','M2','M3']:\n",
    "    Kd, Kd_E, pB, pB_E, B22, B22_E = calcKd_dual(name,N_replicas,p.loc[name].L,m)\n",
    "    dfKd_A2.loc[m,['Kd','Kd_E','pB','pB_E','B22','B22_E']] = Kd, Kd_E, pB, pB_E, B22, B22_E \n",
    "dfKd_A2.to_pickle('two-chain/data/dfB22KdpB_dual_A2.pkl')\n",
    "dfKd_FUS.to_pickle('two-chain/data/dfB22KdpB_dual_FUS.pkl')"
   ]
  },
  {
   "cell_type": "markdown",
   "id": "3657458d",
   "metadata": {},
   "source": [
    "Show the $N$-dependence of the intermolecular non-electrostatic energies for polyvaline chains. Find dual cutoffs that minimize the discrepancy between $K_d$ values calculated combining $p_B$ and $K_d$ or using only $p_B$. Show the difference in the SDs of the replicas and of the optimal dual cutoffs. "
   ]
  },
  {
   "cell_type": "code",
   "execution_count": 10,
   "id": "bcbb4c4b",
   "metadata": {},
   "outputs": [],
   "source": [
    "B22KdpB_A2 = pd.read_pickle('two-chain/data/dfB22KdpB_A2.pkl')\n",
    "B22KdpB_FUS = pd.read_pickle('two-chain/data/dfB22KdpB_FUS.pkl')\n",
    "B22KdpB_dual_A2 = pd.read_pickle('two-chain/data/dfB22KdpB_dual_A2.pkl')\n",
    "B22KdpB_dual_FUS = pd.read_pickle('two-chain/data/dfB22KdpB_dual_FUS.pkl')"
   ]
  },
  {
   "cell_type": "code",
   "execution_count": 11,
   "id": "736f8d25",
   "metadata": {},
   "outputs": [
    {
     "data": {
      "image/png": "[encoded data removed]",
      "text/plain": [
       "<Figure size 504x288 with 5 Axes>"
      ]
     },
     "metadata": {
      "needs_background": "light"
     },
     "output_type": "display_data"
    }
   ],
   "source": [
    "fig, ((ax1,ax2),(ax3,ax4)) = plt.subplots(2, 2, sharex=False, sharey=False, figsize=(7,4))\n",
    "\n",
    "cutoffs = pd.read_pickle('two-chain/data/cutoffs.pkl')\n",
    "NlogN = lambda x,a: a*x*np.log(np.array(x))\n",
    "\n",
    "all_x = np.empty(0)\n",
    "all_y = np.empty(0)\n",
    "for name in cutoffs.index:\n",
    "    x1 = cutoffs.loc[name,'FUS'][0]\n",
    "    y1 = cutoffs.loc[name,'FUS'][1]\n",
    "    x2 = cutoffs.loc[name,'A2'][0]\n",
    "    y2 = cutoffs.loc[name,'A2'][1]\n",
    "    all_x = np.append(all_x,np.concatenate([x1,x2]))\n",
    "    all_y = np.append(all_y,np.concatenate([y1,y2]))\n",
    "\n",
    "min_energy.plot(ax=ax1,lw=0,color='tab:blue',marker='o')\n",
    "ax1.set_xlabel('Polyvaline Sequence Length, $N$')\n",
    "ax1.set_ylabel('$|E_{min}|$  /  kJ mol$^{-1}$')\n",
    "NlogN_fit,_ = curve_fit(NlogN,min_energy.index,min_energy.values)\n",
    "ax1.plot(min_energy.index,NlogN(min_energy.index,*NlogN_fit),color='tab:blue',linestyle='dotted')\n",
    "\n",
    "for (model,data),c,ms in zip(cutoffs.iterrows(),cm[:3],[2,3,4]):\n",
    "    ax2.plot(data.FUS[0],data.FUS[1],marker='^',color=c,mfc='None',lw=0,label='FUS LCD, '+model,\n",
    "             ms=ms,markeredgewidth=.5)\n",
    "    ax2.plot(data.A2[0],data.A2[1],marker='v',color=c,mfc='None',lw=0,label='A2 LCD, '+model,\n",
    "             ms=ms,markeredgewidth=.5)\n",
    "ax2.legend(frameon=False,markerfirst=False,handletextpad=.05,borderpad=.1)\n",
    "ax2.set_ylabel('$e_u$  /  kJ mol$^{-1}$')\n",
    "ax2.set_xlabel('$e_l$  /  kJ mol$^{-1}$')\n",
    "bins = np.arange(-.15,0.01,0.01)\n",
    "h, xbins, ybins = np.histogram2d(all_x,all_y,bins=bins,density=False)\n",
    "im = ax2.imshow(h.T,extent=[xbins.min()-.005,xbins.max()-.005,ybins.min()+.005,ybins.max()+.005],origin='lower',\n",
    "           cmap=plt.cm.binary)\n",
    "ax2.contour(xbins[:-1]+.005,ybins[:-1]+.005,h.T,[5],origin='lower',colors=['w'],linewidths=[1])\n",
    "ax2.set_xlim(-.15,0)\n",
    "ax2.set_ylim(-.14,0)\n",
    "\n",
    "divider = make_axes_locatable(ax2)\n",
    "cax2 = divider.append_axes(\"left\", size='5%',pad=.1) \n",
    "fig.add_axes(cax2)\n",
    "plt.colorbar(im, cax=cax2, orientation=\"vertical\", label=r'Number of Points')\n",
    "cax2.yaxis.set_ticks_position('left')\n",
    "cax2.yaxis.set_label_position('left')\n",
    "\n",
    "B22KdpB_FUS.pB_E.plot(ax=ax3,marker='^',lw=0,mfc='None',color='tab:blue',label='FUS LCD, replicas')\n",
    "B22KdpB_dual_FUS.pB_E.plot(ax=ax3,marker='^',lw=0,color='tab:blue',label='FUS LCD, cutoffs')\n",
    "B22KdpB_A2.pB_E.plot(ax=ax3,marker='v',lw=0,mfc='None',color='tab:blue',label='A2 LCD, replicas')\n",
    "B22KdpB_dual_A2.pB_E.plot(ax=ax3,marker='v',lw=0,color='tab:blue',label='A2 LCD, cutoffs')\n",
    "\n",
    "ax3.legend(frameon=True,markerfirst=True,labelspacing=1)\n",
    "ax3.set_ylabel('SD of $p_B$  %')\n",
    "\n",
    "B22KdpB_FUS.Kd_E.plot(ax=ax4,marker='^',lw=0,mfc='None',color='tab:blue',label='FUS LCD, replicas')\n",
    "B22KdpB_dual_FUS.Kd_E.plot(ax=ax4,marker='^',lw=0,color='tab:blue',label='FUS LCD, cutoffs')\n",
    "B22KdpB_A2.Kd_E.plot(ax=ax4,marker='v',lw=0,mfc='None',color='tab:blue',label='A2 LCD, replicas')\n",
    "B22KdpB_dual_A2.Kd_E.plot(ax=ax4,marker='v',lw=0,color='tab:blue',label='A2 LCD, cutoffs')\n",
    "\n",
    "ax2.set_xticks(np.arange(-.15,0.01,.05))\n",
    "ax3.set_xticks(range(3))\n",
    "ax4.set_xticks(range(3))\n",
    "\n",
    "ax4.legend(frameon=True,markerfirst=True,labelspacing=1)\n",
    "ax4.set_ylabel('SD of $K_d$  /  mM')\n",
    "\n",
    "ax2.yaxis.set_ticks_position('right'); ax2.yaxis.set_label_position('right')\n",
    "ax4.yaxis.set_ticks_position('right'); ax4.yaxis.set_label_position('right')\n",
    "\n",
    "fig.text(0.02, .96, 'A', fontsize=12)\n",
    "fig.text(0.525, .96, 'B', fontsize=12)\n",
    "fig.text(0.02, .47, 'C', fontsize=12)\n",
    "fig.text(0.525, .47, 'D', fontsize=12)\n",
    "\n",
    "plt.tight_layout(pad=2)\n",
    "plt.savefig('figures/Kd.pdf')"
   ]
  },
  {
   "cell_type": "code",
   "execution_count": null,
   "id": "c45cc6cd",
   "metadata": {},
   "outputs": [],
   "source": []
  }
 ],
 "metadata": {
  "kernelspec": {
   "display_name": "Python 3",
   "language": "python",
   "name": "python3"
  },
  "language_info": {
   "codemirror_mode": {
    "name": "ipython",
    "version": 3
   },
   "file_extension": ".py",
   "mimetype": "text/x-python",
   "name": "python",
   "nbconvert_exporter": "python",
   "pygments_lexer": "ipython3",
   "version": "3.8.10"
  }
 },
 "nbformat": 4,
 "nbformat_minor": 5
}
